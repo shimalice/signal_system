{
 "cells": [
  {
   "cell_type": "code",
   "execution_count": 1,
   "metadata": {},
   "outputs": [
    {
     "data": {
      "text/plain": [
       "[<matplotlib.lines.Line2D at 0x11b4410f0>]"
      ]
     },
     "execution_count": 1,
     "metadata": {},
     "output_type": "execute_result"
    },
    {
     "data": {
      "image/png": "[encoded data removed]",
      "text/plain": [
       "<matplotlib.figure.Figure at 0x111164c18>"
      ]
     },
     "metadata": {},
     "output_type": "display_data"
    }
   ],
   "source": [
    "import matplotlib.pyplot as plt\n",
    "x_n = [3.0, 2.0, 0.0, -1.0, 1.0, 3.0, 2.0, -1.0]\n",
    "T = 1.0/6.0\n",
    "%matplotlib inline\n",
    "plt.plot(x_n)"
   ]
  },
  {
   "cell_type": "markdown",
   "metadata": {},
   "source": [
    "# 問2"
   ]
  },
  {
   "cell_type": "code",
   "execution_count": 2,
   "metadata": {},
   "outputs": [
    {
     "name": "stdout",
     "output_type": "stream",
     "text": [
      "[-9.0, -9.0, 3.0, 12.0, 3.0, -12.0]\n"
     ]
    }
   ],
   "source": [
    "y2 = []\n",
    "for i in range(1, len(x_n)-1):\n",
    "    y2.append(-1/(2*T)*(x_n[i-1]-x_n[i+1]))\n",
    "print(y2)"
   ]
  },
  {
   "cell_type": "markdown",
   "metadata": {},
   "source": [
    "# 問3"
   ]
  },
  {
   "cell_type": "code",
   "execution_count": 3,
   "metadata": {},
   "outputs": [
    {
     "name": "stdout",
     "output_type": "stream",
     "text": [
      "[0.8333333333333333, 0.16666666666666666, 0.0, 0.5, 1.0, 0.6666666666666666]\n"
     ]
    }
   ],
   "source": [
    "y3 = []\n",
    "for i in range(1, len(x_n)-1):\n",
    "    y3.append(T*(x_n[i-1]+x_n[i]+x_n[i+1]))\n",
    "print(y3)"
   ]
  },
  {
   "cell_type": "markdown",
   "metadata": {},
   "source": [
    "# 問4"
   ]
  },
  {
   "cell_type": "code",
   "execution_count": 4,
   "metadata": {},
   "outputs": [
    {
     "name": "stdout",
     "output_type": "stream",
     "text": [
      "[-5.0, 2.0, 6.0, 1.0]\n"
     ]
    }
   ],
   "source": [
    "y4 = []\n",
    "for i in range(2, len(x_n)-2):\n",
    "    y4.append(-1/(6*T)*(x_n[i-2]+x_n[i-1]-x_n[i+1]-x_n[i+2]))\n",
    "print(y4)"
   ]
  },
  {
   "cell_type": "code",
   "execution_count": null,
   "metadata": {
    "collapsed": true
   },
   "outputs": [],
   "source": []
  }
 ],
 "metadata": {
  "kernelspec": {
   "display_name": "Python [default]",
   "language": "python",
   "name": "python3"
  },
  "language_info": {
   "codemirror_mode": {
    "name": "ipython",
    "version": 3
   },
   "file_extension": ".py",
   "mimetype": "text/x-python",
   "name": "python",
   "nbconvert_exporter": "python",
   "pygments_lexer": "ipython3",
   "version": "3.5.4"
  }
 },
 "nbformat": 4,
 "nbformat_minor": 2
}
