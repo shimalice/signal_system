{
 "cells": [
  {
   "cell_type": "markdown",
   "metadata": {},
   "source": [
    "# 問5"
   ]
  },
  {
   "cell_type": "code",
   "execution_count": 5,
   "metadata": {
    "collapsed": true
   },
   "outputs": [],
   "source": [
    "import numpy as np\n",
    "import pandas as pd\n",
    "import matplotlib.pyplot as plt\n",
    "%matplotlib inline\n",
    "x_n = np.array([[0.05, 0.81, 0.97, 0.61, 0.34, -0.24],\n",
    "                [-0.52, 1.28, 0.83, 0.43, 0.16, 0.06], \n",
    "                [0.05, 0.85, 0.89, 0.55, 0.25, 0.13], \n",
    "                [0.08, 1.01, 0.65, 0.56, -0.07, -0.15]])"
   ]
  },
  {
   "cell_type": "code",
   "execution_count": 6,
   "metadata": {},
   "outputs": [
    {
     "data": {
      "text/plain": [
       "<matplotlib.legend.Legend at 0x1142ce278>"
      ]
     },
     "execution_count": 6,
     "metadata": {},
     "output_type": "execute_result"
    },
    {
     "data": {
      "image/png": "[encoded data removed]",
      "text/plain": [
       "<matplotlib.figure.Figure at 0x1141e2c88>"
      ]
     },
     "metadata": {},
     "output_type": "display_data"
    }
   ],
   "source": [
    "aver_x_n = np.average(x_n, axis=0)\n",
    "plt.plot(range(len(aver_x_n)), aver_x_n, \"o\", color='red', label='averaging')\n",
    "\n",
    "plt.title(\"Averaging\")\n",
    "plt.xlabel(\"n\")\n",
    "plt.ylabel(\"averaged_x(n)\")\n",
    "plt.legend()"
   ]
  },
  {
   "cell_type": "code",
   "execution_count": 7,
   "metadata": {},
   "outputs": [
    {
     "name": "stdout",
     "output_type": "stream",
     "text": [
      "[-0.085   0.9875  0.835   0.5375  0.17   -0.05  ]\n"
     ]
    }
   ],
   "source": [
    "print(aver_x_n)"
   ]
  },
  {
   "cell_type": "markdown",
   "metadata": {},
   "source": [
    "<br/>\n",
    "<br/>\n",
    "<br/>\n",
    "<br/>\n",
    "\n",
    "# 問6"
   ]
  },
  {
   "cell_type": "code",
   "execution_count": 88,
   "metadata": {},
   "outputs": [
    {
     "data": {
      "text/plain": [
       "<matplotlib.legend.Legend at 0x11df0f0f0>"
      ]
     },
     "execution_count": 88,
     "metadata": {},
     "output_type": "execute_result"
    },
    {
     "data": {
      "image/png": "[encoded data removed]",
      "text/plain": [
       "<matplotlib.figure.Figure at 0x11de42438>"
      ]
     },
     "metadata": {},
     "output_type": "display_data"
    }
   ],
   "source": [
    "m_m = 3.0\n",
    "window = np.ones(int(m_m)) / m_m\n",
    "y_aver_n = np.convolve(aver_x_n, window, \"same\")\n",
    "plt.plot(range(1, 1+len(y_aver_n[1:5])), y_aver_n[1:5],\"o\", color='blue', label='MA')\n",
    "plt.title(\"MA filtering\")\n",
    "plt.xlabel(\"n\")\n",
    "plt.ylabel(\"y(n)\")\n",
    "plt.legend()"
   ]
  },
  {
   "cell_type": "code",
   "execution_count": 63,
   "metadata": {},
   "outputs": [
    {
     "data": {
      "text/plain": [
       "array([ 0.57916667,  0.78666667,  0.51416667,  0.21916667])"
      ]
     },
     "execution_count": 63,
     "metadata": {},
     "output_type": "execute_result"
    }
   ],
   "source": [
    "y_aver_n[1:5]"
   ]
  }
 ],
 "metadata": {
  "kernelspec": {
   "display_name": "Python [default]",
   "language": "python",
   "name": "python3"
  },
  "language_info": {
   "codemirror_mode": {
    "name": "ipython",
    "version": 3
   },
   "file_extension": ".py",
   "mimetype": "text/x-python",
   "name": "python",
   "nbconvert_exporter": "python",
   "pygments_lexer": "ipython3",
   "version": "3.5.4"
  }
 },
 "nbformat": 4,
 "nbformat_minor": 2
}
